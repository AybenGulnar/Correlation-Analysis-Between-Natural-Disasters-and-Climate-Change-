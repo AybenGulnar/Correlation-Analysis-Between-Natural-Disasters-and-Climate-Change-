{
 "cells": [
  {
   "cell_type": "code",
   "execution_count": 3,
   "id": "a3195ac3",
   "metadata": {},
   "outputs": [],
   "source": [
    "import numpy as np\n",
    "import pygal_maps_world.maps\n",
    "import pandas as pd\n",
    "from pygal.style import Style\n",
    "from pygal.style import CleanStyle\n",
    "import Countries"
   ]
  },
  {
   "cell_type": "code",
   "execution_count": 4,
   "id": "a0e812ee",
   "metadata": {
    "scrolled": true
   },
   "outputs": [
    {
     "name": "stderr",
     "output_type": "stream",
     "text": [
      "C:\\Users\\CChri\\AppData\\Local\\Temp/ipykernel_11588/1261905215.py:5: SettingWithCopyWarning: \n",
      "A value is trying to be set on a copy of a slice from a DataFrame.\n",
      "Try using .loc[row_indexer,col_indexer] = value instead\n",
      "\n",
      "See the caveats in the documentation: https://pandas.pydata.org/pandas-docs/stable/user_guide/indexing.html#returning-a-view-versus-a-copy\n",
      "  simple['totalPopulation'] = simple['dfo_dead'] + simple['dfo_displaced']\n"
     ]
    }
   ],
   "source": [
    "filepath = \"C:/Users/CChri/Desktop/Data Science/project/gfd_event_stats_20215_13_error_fixed_2.csv\"\n",
    "flood_data = pd.read_csv(filepath)\n",
    "\n",
    "simple = flood_data[['dfo_country','dfo_other_country', 'dfo_centroid_x', 'dfo_centroid_y', 'dfo_began','dfo_ended', 'dfo_validation', 'dfo_dead', 'dfo_displaced', 'dfo_cause','dfo_severity', 'gfd_area']]\n",
    "simple['totalPopulation'] = simple['dfo_dead'] + simple['dfo_displaced']\n",
    "simple.head()\n",
    "\n",
    "index = simple[simple['dfo_country'] == 'Bahamas'].index\n",
    "simple.drop(index ,inplace=True)\n",
    "index = simple[simple['dfo_country'] == 'Burma'].index\n",
    "simple.drop(index ,inplace=True)\n",
    "index = simple[simple['dfo_country'] == 'Fiji'].index\n",
    "simple.drop(index ,inplace=True)\n",
    "index = simple[simple['dfo_country'] == 'Gaza'].index\n",
    "simple.drop(index ,inplace=True)\n",
    "index = simple[simple['dfo_country'] == 'South Sudan'].index\n",
    "simple.drop(index ,inplace=True)\n",
    "\n",
    "index = simple[simple['dfo_country'] == 'Bosnia and Herzegovina'].index\n",
    "simple.at[index,'dfo_country'] = 'Bosnia-Herzegovina'\n",
    "index = simple[simple['dfo_country'] == 'Uruguay,'].index\n",
    "simple.at[index,'dfo_country'] = 'Uruguay'\n",
    "\n",
    "valuePairs = simple[['dfo_country' ,'totalPopulation']].groupby('dfo_country').sum()\n",
    "valueDict = {}\n",
    "for i in range(0 ,valuePairs.shape[0] ,1):\n",
    "    row = valuePairs.iloc[i]\n",
    "    countryName = row.name\n",
    "    pop = row['totalPopulation']\n",
    "    valueDict[Countries.getCountry(countryName)] = pop\n",
    "\n",
    "dic2 = dict(sorted(valueDict.items(),key= lambda x:x[1]))\n",
    "valList = []\n",
    "for key in dic2:\n",
    "    val = dic2[key]\n",
    "    valList.append((key ,val))\n",
    "\n",
    "groups = [{} for _ in range(5)]\n",
    "\n",
    "i = 0\n",
    "for key in dic2:\n",
    "    val = dic2[key]\n",
    "    if(i < 25):\n",
    "        groups[0][key] = val\n",
    "        i = i + 1\n",
    "    elif(i < 50):\n",
    "        groups[1][key] = val\n",
    "        i = i + 1\n",
    "    elif(i < 75):\n",
    "        groups[2][key] = val\n",
    "        i = i + 1\n",
    "    elif(i < 100):\n",
    "        groups[3][key] = val\n",
    "        i = i + 1\n",
    "    else:\n",
    "        groups[4][key] = val\n",
    "        i = i + 1\n",
    "\n",
    "custom_style = Style(colors = ['#FF3333' ,'#3333FF' ,'#33FF33', '#a557c9' ,'#000000' ,'#FFFFFF'])\n",
    "        \n",
    "worldmap_chart = pygal_maps_world.maps.World(style=custom_style ,legend_at_bottom=True)\n",
    "worldmap_chart.title = 'How Bad Each Country Is Affected By Floods'\n",
    "worldmap_chart.add(\"Slightly Affacted\" , groups[0])\n",
    "worldmap_chart.add(\"Moderetaly Affected\" , groups[1])\n",
    "worldmap_chart.add(\"Badly Affacted\" , groups[2])\n",
    "worldmap_chart.add(\"Heavily Affacted\" , groups[3])\n",
    "worldmap_chart.add(\"Severely Affacted\" , groups[4])\n",
    "worldmap_chart.add(\"No Data\" , {})\n",
    "worldmap_chart.render_to_file(\"worldMapTemp.svg\")"
   ]
  }
 ],
 "metadata": {
  "kernelspec": {
   "display_name": "Python 3 (ipykernel)",
   "language": "python",
   "name": "python3"
  },
  "language_info": {
   "codemirror_mode": {
    "name": "ipython",
    "version": 3
   },
   "file_extension": ".py",
   "mimetype": "text/x-python",
   "name": "python",
   "nbconvert_exporter": "python",
   "pygments_lexer": "ipython3",
   "version": "3.9.5"
  }
 },
 "nbformat": 4,
 "nbformat_minor": 5
}
